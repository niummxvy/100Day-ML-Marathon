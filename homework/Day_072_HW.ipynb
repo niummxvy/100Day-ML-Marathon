{
 "cells": [
  {
   "cell_type": "markdown",
   "metadata": {},
   "source": [
    "# 作業目標:\n",
    "    寫出 ReLU & dReLU 一階導數\n",
    "    並列印\n"
   ]
  },
  {
   "cell_type": "markdown",
   "metadata": {},
   "source": [
    "# 作業重點\n",
    "\n",
    "# Rectified Linear Unit- Relu \n",
    "\n",
    "f(x)=max(0,x)\n"
   ]
  },
  {
   "cell_type": "code",
   "execution_count": 73,
   "metadata": {},
   "outputs": [
    {
     "data": {
      "text/plain": [
       "[<matplotlib.lines.Line2D at 0x123b8a690>]"
      ]
     },
     "execution_count": 73,
     "metadata": {},
     "output_type": "execute_result"
    },
    {
     "data": {
      "image/png": "[encoded data removed]",
      "text/plain": [
       "<Figure size 432x288 with 1 Axes>"
      ]
     },
     "metadata": {
      "needs_background": "light"
     },
     "output_type": "display_data"
    }
   ],
   "source": [
    "import numpy as np\n",
    "from numpy import *\n",
    "import matplotlib.pylab as plt\n",
    "%matplotlib inline\n",
    "\n",
    "'''\n",
    "作業:\n",
    "    寫出 ReLU & dReLU 一階導數\n",
    "    並列印\n",
    "'''\n",
    "\n",
    "def ReLU(x):\n",
    "    for i, val in enumerate(x):\n",
    "        x[i] = max(0.0, val)\n",
    "    return x\n",
    "\n",
    "def dReLU(x):\n",
    "    for i, val in enumerate(x):\n",
    "        if val <= 0: x[i] = 0.\n",
    "        else: x[i]  = 1.\n",
    "    return x\n",
    "\n",
    "x = plt.linspace(-10,10,100)\n",
    "\n",
    "plt.title(\"ReLU Function\")\n",
    "plt.text(-1,8,r'$f(x)=max(0,x)$', fontsize=15)\n",
    "plt.grid()\n",
    "\n",
    "plt.gca().xaxis.set_major_locator(plt.MultipleLocator(1))\n",
    "\n",
    "import copy\n",
    "y = copy.deepcopy(x) # 經由deep copy才不會讓x在進入function之後值被改變(i.e. pass by reference)，並連帶x軸一起改變（會變成x軸沒有負數）\n",
    "plt.plot(x, ReLU(y), label='linspace(-10,10,10)')\n",
    "plt.plot(x, dReLU(y), label='linspace(-10,10,10)')"
   ]
  },
  {
   "cell_type": "code",
   "execution_count": null,
   "metadata": {},
   "outputs": [],
   "source": []
  }
 ],
 "metadata": {
  "kernelspec": {
   "display_name": "Python 3",
   "language": "python",
   "name": "python3"
  },
  "language_info": {
   "codemirror_mode": {
    "name": "ipython",
    "version": 3
   },
   "file_extension": ".py",
   "mimetype": "text/x-python",
   "name": "python",
   "nbconvert_exporter": "python",
   "pygments_lexer": "ipython3",
   "version": "3.7.9"
  }
 },
 "nbformat": 4,
 "nbformat_minor": 2
}
