{
 "cells": [
  {
   "cell_type": "markdown",
   "metadata": {
    "colab_type": "text",
    "id": "cj4tE8e8iUtO"
   },
   "source": [
    "#   \n",
    "\n",
    "# 作業目標:\n",
    "\n",
    "    1. 藉由固定的 dataset, 來驗證不同loss function\n",
    "    2. Dataset 的特性跟我們選用的loss function 對accrancy 的影響\n",
    "    \n",
    "    \n",
    "# 作業重點: \n",
    "    請分別選用 \"MSE\", \"binary _crossentropy\"\n",
    "    查看Train/test accurancy and loss rate\n",
    "    "
   ]
  },
  {
   "cell_type": "markdown",
   "metadata": {
    "colab_type": "text",
    "id": "R51J4KyyiUsL"
   },
   "source": [
    "# 導入必要的函數"
   ]
  },
  {
   "cell_type": "code",
   "execution_count": 1,
   "metadata": {
    "colab": {},
    "colab_type": "code",
    "collapsed": true,
    "id": "Qd68OQjciUsM"
   },
   "outputs": [
    {
     "name": "stderr",
     "output_type": "stream",
     "text": [
      "Using TensorFlow backend.\n",
      "/Users/lishunbin/opt/anaconda3/lib/python3.7/site-packages/tensorflow/python/framework/dtypes.py:516: FutureWarning: Passing (type, 1) or '1type' as a synonym of type is deprecated; in a future version of numpy, it will be understood as (type, (1,)) / '(1,)type'.\n",
      "  _np_qint8 = np.dtype([(\"qint8\", np.int8, 1)])\n",
      "/Users/lishunbin/opt/anaconda3/lib/python3.7/site-packages/tensorflow/python/framework/dtypes.py:517: FutureWarning: Passing (type, 1) or '1type' as a synonym of type is deprecated; in a future version of numpy, it will be understood as (type, (1,)) / '(1,)type'.\n",
      "  _np_quint8 = np.dtype([(\"quint8\", np.uint8, 1)])\n",
      "/Users/lishunbin/opt/anaconda3/lib/python3.7/site-packages/tensorflow/python/framework/dtypes.py:518: FutureWarning: Passing (type, 1) or '1type' as a synonym of type is deprecated; in a future version of numpy, it will be understood as (type, (1,)) / '(1,)type'.\n",
      "  _np_qint16 = np.dtype([(\"qint16\", np.int16, 1)])\n",
      "/Users/lishunbin/opt/anaconda3/lib/python3.7/site-packages/tensorflow/python/framework/dtypes.py:519: FutureWarning: Passing (type, 1) or '1type' as a synonym of type is deprecated; in a future version of numpy, it will be understood as (type, (1,)) / '(1,)type'.\n",
      "  _np_quint16 = np.dtype([(\"quint16\", np.uint16, 1)])\n",
      "/Users/lishunbin/opt/anaconda3/lib/python3.7/site-packages/tensorflow/python/framework/dtypes.py:520: FutureWarning: Passing (type, 1) or '1type' as a synonym of type is deprecated; in a future version of numpy, it will be understood as (type, (1,)) / '(1,)type'.\n",
      "  _np_qint32 = np.dtype([(\"qint32\", np.int32, 1)])\n",
      "/Users/lishunbin/opt/anaconda3/lib/python3.7/site-packages/tensorflow/python/framework/dtypes.py:525: FutureWarning: Passing (type, 1) or '1type' as a synonym of type is deprecated; in a future version of numpy, it will be understood as (type, (1,)) / '(1,)type'.\n",
      "  np_resource = np.dtype([(\"resource\", np.ubyte, 1)])\n",
      "/Users/lishunbin/opt/anaconda3/lib/python3.7/site-packages/tensorboard/compat/tensorflow_stub/dtypes.py:541: FutureWarning: Passing (type, 1) or '1type' as a synonym of type is deprecated; in a future version of numpy, it will be understood as (type, (1,)) / '(1,)type'.\n",
      "  _np_qint8 = np.dtype([(\"qint8\", np.int8, 1)])\n",
      "/Users/lishunbin/opt/anaconda3/lib/python3.7/site-packages/tensorboard/compat/tensorflow_stub/dtypes.py:542: FutureWarning: Passing (type, 1) or '1type' as a synonym of type is deprecated; in a future version of numpy, it will be understood as (type, (1,)) / '(1,)type'.\n",
      "  _np_quint8 = np.dtype([(\"quint8\", np.uint8, 1)])\n",
      "/Users/lishunbin/opt/anaconda3/lib/python3.7/site-packages/tensorboard/compat/tensorflow_stub/dtypes.py:543: FutureWarning: Passing (type, 1) or '1type' as a synonym of type is deprecated; in a future version of numpy, it will be understood as (type, (1,)) / '(1,)type'.\n",
      "  _np_qint16 = np.dtype([(\"qint16\", np.int16, 1)])\n",
      "/Users/lishunbin/opt/anaconda3/lib/python3.7/site-packages/tensorboard/compat/tensorflow_stub/dtypes.py:544: FutureWarning: Passing (type, 1) or '1type' as a synonym of type is deprecated; in a future version of numpy, it will be understood as (type, (1,)) / '(1,)type'.\n",
      "  _np_quint16 = np.dtype([(\"quint16\", np.uint16, 1)])\n",
      "/Users/lishunbin/opt/anaconda3/lib/python3.7/site-packages/tensorboard/compat/tensorflow_stub/dtypes.py:545: FutureWarning: Passing (type, 1) or '1type' as a synonym of type is deprecated; in a future version of numpy, it will be understood as (type, (1,)) / '(1,)type'.\n",
      "  _np_qint32 = np.dtype([(\"qint32\", np.int32, 1)])\n",
      "/Users/lishunbin/opt/anaconda3/lib/python3.7/site-packages/tensorboard/compat/tensorflow_stub/dtypes.py:550: FutureWarning: Passing (type, 1) or '1type' as a synonym of type is deprecated; in a future version of numpy, it will be understood as (type, (1,)) / '(1,)type'.\n",
      "  np_resource = np.dtype([(\"resource\", np.ubyte, 1)])\n"
     ]
    }
   ],
   "source": [
    "from keras.datasets import cifar10\n",
    "import numpy as np\n",
    "np.random.seed(10)"
   ]
  },
  {
   "cell_type": "markdown",
   "metadata": {
    "colab_type": "text",
    "id": "GxKuzQLQiUsP"
   },
   "source": [
    "# 資料準備"
   ]
  },
  {
   "cell_type": "code",
   "execution_count": 2,
   "metadata": {
    "colab": {},
    "colab_type": "code",
    "id": "MIbFZdTCiUsQ"
   },
   "outputs": [
    {
     "name": "stdout",
     "output_type": "stream",
     "text": [
      "Downloading data from https://www.cs.toronto.edu/~kriz/cifar-10-python.tar.gz\n",
      "170500096/170498071 [==============================] - 35s 0us/step\n"
     ]
    }
   ],
   "source": [
    "#取得Keras Dataset\n",
    "(x_img_train,y_label_train),(x_img_test,y_label_test)=cifar10.load_data()"
   ]
  },
  {
   "cell_type": "code",
   "execution_count": 3,
   "metadata": {
    "colab": {},
    "colab_type": "code",
    "id": "J8CJVjNOiUsS"
   },
   "outputs": [
    {
     "name": "stdout",
     "output_type": "stream",
     "text": [
      "train data: images: (50000, 32, 32, 3)  labels: (50000, 1)\n",
      "test  data: images: (10000, 32, 32, 3)  labels: (10000, 1)\n"
     ]
    }
   ],
   "source": [
    "#確認 CIFAR10 Dataset 資料維度\n",
    "print(\"train data:\",'images:',x_img_train.shape,\n",
    "      \" labels:\",y_label_train.shape) \n",
    "print(\"test  data:\",'images:',x_img_test.shape ,\n",
    "      \" labels:\",y_label_test.shape) "
   ]
  },
  {
   "cell_type": "code",
   "execution_count": 4,
   "metadata": {
    "colab": {},
    "colab_type": "code",
    "id": "V3P6P4DXiUsV"
   },
   "outputs": [],
   "source": [
    "#資料正規化\n",
    "x_img_train_normalize = x_img_train.astype('float32') / 255.0\n",
    "x_img_test_normalize = x_img_test.astype('float32') / 255.0"
   ]
  },
  {
   "cell_type": "code",
   "execution_count": 5,
   "metadata": {
    "colab": {},
    "colab_type": "code",
    "id": "vsDyjKYliUsX"
   },
   "outputs": [
    {
     "data": {
      "text/plain": [
       "(10000, 10)"
      ]
     },
     "execution_count": 5,
     "metadata": {},
     "output_type": "execute_result"
    }
   ],
   "source": [
    "#針對Label 做 ONE HOT ENCODE\n",
    "from keras.utils import np_utils\n",
    "y_label_train_OneHot = np_utils.to_categorical(y_label_train)\n",
    "y_label_test_OneHot = np_utils.to_categorical(y_label_test)\n",
    "y_label_test_OneHot.shape"
   ]
  },
  {
   "cell_type": "markdown",
   "metadata": {
    "colab_type": "text",
    "id": "RutW2OtgiUsZ"
   },
   "source": [
    "# 建立模型"
   ]
  },
  {
   "cell_type": "code",
   "execution_count": 6,
   "metadata": {
    "colab": {},
    "colab_type": "code",
    "id": "aHz592aXiUsa"
   },
   "outputs": [],
   "source": [
    "from keras.models import Sequential\n",
    "from keras.layers import Dense, Dropout, Activation, Flatten\n",
    "from keras.layers import Conv2D, MaxPooling2D, ZeroPadding2D"
   ]
  },
  {
   "cell_type": "code",
   "execution_count": 7,
   "metadata": {
    "colab": {},
    "colab_type": "code",
    "id": "hslqrIp0iUse"
   },
   "outputs": [],
   "source": [
    "model = Sequential()"
   ]
  },
  {
   "cell_type": "code",
   "execution_count": 8,
   "metadata": {
    "colab": {},
    "colab_type": "code",
    "id": "Hqe35hs2iUsi"
   },
   "outputs": [],
   "source": [
    "#卷積層1"
   ]
  },
  {
   "cell_type": "code",
   "execution_count": 9,
   "metadata": {
    "colab": {},
    "colab_type": "code",
    "id": "ED7dqe1YiUsm"
   },
   "outputs": [],
   "source": [
    "model.add(Conv2D(filters=32,kernel_size=(3,3),\n",
    "                 input_shape=(32, 32,3), \n",
    "                 activation='relu', \n",
    "                 padding='same'))"
   ]
  },
  {
   "cell_type": "code",
   "execution_count": 10,
   "metadata": {
    "colab": {},
    "colab_type": "code",
    "id": "n-GRKmPViUso"
   },
   "outputs": [],
   "source": [
    "model.add(Dropout(rate=0.25))"
   ]
  },
  {
   "cell_type": "code",
   "execution_count": 11,
   "metadata": {
    "colab": {},
    "colab_type": "code",
    "id": "GlWnnD1uiUsw"
   },
   "outputs": [
    {
     "name": "stdout",
     "output_type": "stream",
     "text": [
      "WARNING:tensorflow:From /Users/lishunbin/opt/anaconda3/lib/python3.7/site-packages/keras/backend/tensorflow_backend.py:4070: The name tf.nn.max_pool is deprecated. Please use tf.nn.max_pool2d instead.\n",
      "\n"
     ]
    }
   ],
   "source": [
    "model.add(MaxPooling2D(pool_size=(2, 2)))"
   ]
  },
  {
   "cell_type": "code",
   "execution_count": 12,
   "metadata": {
    "colab": {},
    "colab_type": "code",
    "id": "nawlkt55iUsy"
   },
   "outputs": [],
   "source": [
    "#卷積層2與池化層2"
   ]
  },
  {
   "cell_type": "code",
   "execution_count": 13,
   "metadata": {
    "colab": {},
    "colab_type": "code",
    "id": "xxyETiKNiUs1"
   },
   "outputs": [],
   "source": [
    "model.add(Conv2D(filters=64, kernel_size=(3, 3), \n",
    "                 activation='relu', padding='same'))"
   ]
  },
  {
   "cell_type": "code",
   "execution_count": 14,
   "metadata": {
    "colab": {},
    "colab_type": "code",
    "id": "RqcKWtqGiUs2"
   },
   "outputs": [],
   "source": [
    "model.add(Dropout(0.25))"
   ]
  },
  {
   "cell_type": "code",
   "execution_count": 15,
   "metadata": {
    "colab": {},
    "colab_type": "code",
    "id": "BUOOzlqfiUs4"
   },
   "outputs": [],
   "source": [
    "model.add(MaxPooling2D(pool_size=(2, 2)))"
   ]
  },
  {
   "cell_type": "code",
   "execution_count": 16,
   "metadata": {
    "colab": {},
    "colab_type": "code",
    "id": "LpkppB2siUs7"
   },
   "outputs": [],
   "source": [
    "#建立神經網路(平坦層、隱藏層、輸出層)"
   ]
  },
  {
   "cell_type": "code",
   "execution_count": 17,
   "metadata": {
    "colab": {},
    "colab_type": "code",
    "id": "UQOfU54_iUs_"
   },
   "outputs": [],
   "source": [
    "model.add(Flatten())\n",
    "model.add(Dropout(rate=0.25))"
   ]
  },
  {
   "cell_type": "code",
   "execution_count": 18,
   "metadata": {
    "colab": {},
    "colab_type": "code",
    "id": "_NV-8sq4iUtD"
   },
   "outputs": [],
   "source": [
    "model.add(Dense(1024, activation='relu'))\n",
    "model.add(Dropout(rate=0.25))"
   ]
  },
  {
   "cell_type": "code",
   "execution_count": 19,
   "metadata": {
    "colab": {},
    "colab_type": "code",
    "id": "qVK77krOiUtF"
   },
   "outputs": [],
   "source": [
    "model.add(Dense(10, activation='softmax'))"
   ]
  },
  {
   "cell_type": "code",
   "execution_count": 20,
   "metadata": {
    "colab": {},
    "colab_type": "code",
    "id": "ZxzRIjR0iUtH"
   },
   "outputs": [
    {
     "name": "stdout",
     "output_type": "stream",
     "text": [
      "Model: \"sequential_1\"\n",
      "_________________________________________________________________\n",
      "Layer (type)                 Output Shape              Param #   \n",
      "=================================================================\n",
      "conv2d_1 (Conv2D)            (None, 32, 32, 32)        896       \n",
      "_________________________________________________________________\n",
      "dropout_1 (Dropout)          (None, 32, 32, 32)        0         \n",
      "_________________________________________________________________\n",
      "max_pooling2d_1 (MaxPooling2 (None, 16, 16, 32)        0         \n",
      "_________________________________________________________________\n",
      "conv2d_2 (Conv2D)            (None, 16, 16, 64)        18496     \n",
      "_________________________________________________________________\n",
      "dropout_2 (Dropout)          (None, 16, 16, 64)        0         \n",
      "_________________________________________________________________\n",
      "max_pooling2d_2 (MaxPooling2 (None, 8, 8, 64)          0         \n",
      "_________________________________________________________________\n",
      "flatten_1 (Flatten)          (None, 4096)              0         \n",
      "_________________________________________________________________\n",
      "dropout_3 (Dropout)          (None, 4096)              0         \n",
      "_________________________________________________________________\n",
      "dense_1 (Dense)              (None, 1024)              4195328   \n",
      "_________________________________________________________________\n",
      "dropout_4 (Dropout)          (None, 1024)              0         \n",
      "_________________________________________________________________\n",
      "dense_2 (Dense)              (None, 10)                10250     \n",
      "=================================================================\n",
      "Total params: 4,224,970\n",
      "Trainable params: 4,224,970\n",
      "Non-trainable params: 0\n",
      "_________________________________________________________________\n",
      "None\n"
     ]
    }
   ],
   "source": [
    "#檢查model 的STACK\n",
    "print(model.summary())"
   ]
  },
  {
   "cell_type": "markdown",
   "metadata": {
    "colab_type": "text",
    "id": "QJCtpJM0iUtJ"
   },
   "source": [
    "# 載入之前訓練的模型"
   ]
  },
  {
   "cell_type": "code",
   "execution_count": 21,
   "metadata": {
    "colab": {},
    "colab_type": "code",
    "id": "JU3A6NzQiUtK"
   },
   "outputs": [
    {
     "name": "stdout",
     "output_type": "stream",
     "text": [
      "載入模型失敗!開始訓練一個新模型\n"
     ]
    }
   ],
   "source": [
    "try:\n",
    "    model.load_weights(\"SaveModel/cifarCnnModel.h5\")\n",
    "    print(\"載入模型成功!繼續訓練模型\")\n",
    "except :    \n",
    "    print(\"載入模型失敗!開始訓練一個新模型\")"
   ]
  },
  {
   "cell_type": "markdown",
   "metadata": {
    "colab_type": "text",
    "id": "qBbCuziziUtM"
   },
   "source": [
    "# 訓練模型"
   ]
  },
  {
   "cell_type": "markdown",
   "metadata": {},
   "source": [
    "### Categorical Crossentropy"
   ]
  },
  {
   "cell_type": "code",
   "execution_count": 22,
   "metadata": {
    "colab": {},
    "colab_type": "code",
    "id": "Q6BiBcseiUtP"
   },
   "outputs": [
    {
     "data": {
      "text/plain": [
       "'\\n作業:\\n請分別選用 \"MSE\", \"binary _crossentropy\"\\n查看Train/test accurancy and loss rate\\n'"
      ]
     },
     "execution_count": 22,
     "metadata": {},
     "output_type": "execute_result"
    }
   ],
   "source": [
    "model.compile(loss='categorical_crossentropy', optimizer='sgd', metrics=['accuracy'])\n",
    "\n",
    "'''\n",
    "作業:\n",
    "請分別選用 \"MSE\", \"binary _crossentropy\"\n",
    "查看Train/test accurancy and loss rate\n",
    "'''"
   ]
  },
  {
   "cell_type": "code",
   "execution_count": 23,
   "metadata": {
    "colab": {},
    "colab_type": "code",
    "collapsed": true,
    "id": "4-GdDgmQiUtS"
   },
   "outputs": [
    {
     "name": "stdout",
     "output_type": "stream",
     "text": [
      "WARNING:tensorflow:From /Users/lishunbin/opt/anaconda3/lib/python3.7/site-packages/keras/backend/tensorflow_backend.py:422: The name tf.global_variables is deprecated. Please use tf.compat.v1.global_variables instead.\n",
      "\n",
      "Train on 35000 samples, validate on 15000 samples\n",
      "Epoch 1/20\n",
      "35000/35000 [==============================] - 97s 3ms/step - loss: 2.2553 - accuracy: 0.1533 - val_loss: 2.2044 - val_accuracy: 0.2521\n",
      "Epoch 2/20\n",
      "35000/35000 [==============================] - 95s 3ms/step - loss: 2.0893 - accuracy: 0.2410 - val_loss: 2.0767 - val_accuracy: 0.2966\n",
      "Epoch 3/20\n",
      "35000/35000 [==============================] - 94s 3ms/step - loss: 1.9832 - accuracy: 0.2861 - val_loss: 2.0060 - val_accuracy: 0.3191\n",
      "Epoch 4/20\n",
      "35000/35000 [==============================] - 96s 3ms/step - loss: 1.9284 - accuracy: 0.3104 - val_loss: 1.9356 - val_accuracy: 0.3521\n",
      "Epoch 5/20\n",
      "35000/35000 [==============================] - 108s 3ms/step - loss: 1.8684 - accuracy: 0.3377 - val_loss: 1.9351 - val_accuracy: 0.3415\n",
      "Epoch 6/20\n",
      "35000/35000 [==============================] - 106s 3ms/step - loss: 1.8082 - accuracy: 0.3586 - val_loss: 1.8459 - val_accuracy: 0.3892\n",
      "Epoch 7/20\n",
      "35000/35000 [==============================] - 106s 3ms/step - loss: 1.7524 - accuracy: 0.3784 - val_loss: 1.7990 - val_accuracy: 0.4043\n",
      "Epoch 8/20\n",
      "35000/35000 [==============================] - 121s 3ms/step - loss: 1.7051 - accuracy: 0.3897 - val_loss: 1.7443 - val_accuracy: 0.4176\n",
      "Epoch 9/20\n",
      "35000/35000 [==============================] - 141s 4ms/step - loss: 1.6679 - accuracy: 0.4035 - val_loss: 1.7071 - val_accuracy: 0.4378\n",
      "Epoch 10/20\n",
      "35000/35000 [==============================] - 129s 4ms/step - loss: 1.6294 - accuracy: 0.4169 - val_loss: 1.6874 - val_accuracy: 0.4439\n",
      "Epoch 11/20\n",
      "35000/35000 [==============================] - 111s 3ms/step - loss: 1.5951 - accuracy: 0.4260 - val_loss: 1.6481 - val_accuracy: 0.4527\n",
      "Epoch 12/20\n",
      "35000/35000 [==============================] - 102s 3ms/step - loss: 1.5591 - accuracy: 0.4419 - val_loss: 1.6058 - val_accuracy: 0.4737\n",
      "Epoch 13/20\n",
      "35000/35000 [==============================] - 102s 3ms/step - loss: 1.5348 - accuracy: 0.4494 - val_loss: 1.5866 - val_accuracy: 0.4753\n",
      "Epoch 14/20\n",
      "35000/35000 [==============================] - 104s 3ms/step - loss: 1.5118 - accuracy: 0.4591 - val_loss: 1.5610 - val_accuracy: 0.4895\n",
      "Epoch 15/20\n",
      "35000/35000 [==============================] - 107s 3ms/step - loss: 1.4887 - accuracy: 0.4653 - val_loss: 1.5358 - val_accuracy: 0.4967\n",
      "Epoch 16/20\n",
      "35000/35000 [==============================] - 98s 3ms/step - loss: 1.4691 - accuracy: 0.4721 - val_loss: 1.6048 - val_accuracy: 0.4656\n",
      "Epoch 17/20\n",
      "35000/35000 [==============================] - 102s 3ms/step - loss: 1.4509 - accuracy: 0.4796 - val_loss: 1.5063 - val_accuracy: 0.4966\n",
      "Epoch 18/20\n",
      "35000/35000 [==============================] - 101s 3ms/step - loss: 1.4287 - accuracy: 0.4893 - val_loss: 1.4768 - val_accuracy: 0.5089\n",
      "Epoch 19/20\n",
      "35000/35000 [==============================] - 98s 3ms/step - loss: 1.4168 - accuracy: 0.4926 - val_loss: 1.4754 - val_accuracy: 0.5006\n",
      "Epoch 20/20\n",
      "35000/35000 [==============================] - 101s 3ms/step - loss: 1.3948 - accuracy: 0.4991 - val_loss: 1.4539 - val_accuracy: 0.5107\n"
     ]
    }
   ],
   "source": [
    "train_history = model.fit(x_img_train_normalize, y_label_train_OneHot, \n",
    "                          validation_split=0.3, \n",
    "                          epochs=20, batch_size=256, verbose=1)"
   ]
  },
  {
   "cell_type": "code",
   "execution_count": 50,
   "metadata": {},
   "outputs": [],
   "source": [
    "import matplotlib.pyplot as plt\n",
    "%matplotlib inline\n",
    "\n",
    "# draw function\n",
    "def show_acc(train_acc, test_acc):\n",
    "    plt.plot(train_history.history[train_acc])\n",
    "    plt.plot(train_history.history[test_acc])\n",
    "    plt.title('Train History')\n",
    "    plt.ylabel('Accuracy')\n",
    "    plt.xlabel('Epoch')\n",
    "    plt.legend(['train_acc', 'val_acc'], loc='upper left')\n",
    "    plt.show()"
   ]
  },
  {
   "cell_type": "code",
   "execution_count": 51,
   "metadata": {},
   "outputs": [
    {
     "data": {
      "image/png": "[encoded data removed]",
      "text/plain": [
       "<Figure size 432x288 with 1 Axes>"
      ]
     },
     "metadata": {
      "needs_background": "light"
     },
     "output_type": "display_data"
    }
   ],
   "source": [
    "show_acc('accuracy', 'val_accuracy')\n",
    "# 因為keras庫的版本不同，所以要把acc改成accuracy"
   ]
  },
  {
   "cell_type": "code",
   "execution_count": 45,
   "metadata": {},
   "outputs": [],
   "source": [
    "def show_loss(train_acc, test_acc):\n",
    "    plt.plot(train_history.history['loss'])\n",
    "    plt.plot(train_history.history['val_loss'])\n",
    "    plt.title('Train History')\n",
    "    plt.ylabel('Loss')\n",
    "    plt.xlabel('Epoch')\n",
    "    plt.legend(['train_loss', 'val_loss'], loc='upper left')\n",
    "    plt.show()"
   ]
  },
  {
   "cell_type": "code",
   "execution_count": 46,
   "metadata": {
    "scrolled": true
   },
   "outputs": [
    {
     "data": {
      "image/png": "[encoded data removed]",
      "text/plain": [
       "<Figure size 432x288 with 1 Axes>"
      ]
     },
     "metadata": {
      "needs_background": "light"
     },
     "output_type": "display_data"
    }
   ],
   "source": [
    "show_loss('loss', 'val_loss')"
   ]
  },
  {
   "cell_type": "markdown",
   "metadata": {},
   "source": [
    "### MSE"
   ]
  },
  {
   "cell_type": "code",
   "execution_count": 52,
   "metadata": {},
   "outputs": [],
   "source": [
    "model.compile(loss='MSE', optimizer='sgd', metrics=['accuracy'])"
   ]
  },
  {
   "cell_type": "code",
   "execution_count": 53,
   "metadata": {
    "collapsed": true
   },
   "outputs": [
    {
     "name": "stdout",
     "output_type": "stream",
     "text": [
      "Train on 35000 samples, validate on 15000 samples\n",
      "Epoch 1/20\n",
      "35000/35000 [==============================] - 110s 3ms/step - loss: 0.0629 - accuracy: 0.5067 - val_loss: 0.0653 - val_accuracy: 0.5229\n",
      "Epoch 2/20\n",
      "35000/35000 [==============================] - 103s 3ms/step - loss: 0.0630 - accuracy: 0.5063 - val_loss: 0.0652 - val_accuracy: 0.5244\n",
      "Epoch 3/20\n",
      "35000/35000 [==============================] - 99s 3ms/step - loss: 0.0628 - accuracy: 0.5090 - val_loss: 0.0651 - val_accuracy: 0.5259\n",
      "Epoch 4/20\n",
      "35000/35000 [==============================] - 99s 3ms/step - loss: 0.0628 - accuracy: 0.5096 - val_loss: 0.0651 - val_accuracy: 0.5264\n",
      "Epoch 5/20\n",
      "35000/35000 [==============================] - 100s 3ms/step - loss: 0.0628 - accuracy: 0.5088 - val_loss: 0.0651 - val_accuracy: 0.5251\n",
      "Epoch 6/20\n",
      "35000/35000 [==============================] - 104s 3ms/step - loss: 0.0626 - accuracy: 0.5112 - val_loss: 0.0650 - val_accuracy: 0.5267\n",
      "Epoch 7/20\n",
      "35000/35000 [==============================] - 102s 3ms/step - loss: 0.0626 - accuracy: 0.5135 - val_loss: 0.0649 - val_accuracy: 0.5276\n",
      "Epoch 8/20\n",
      "35000/35000 [==============================] - 96s 3ms/step - loss: 0.0627 - accuracy: 0.5138 - val_loss: 0.0649 - val_accuracy: 0.5294\n",
      "Epoch 9/20\n",
      "35000/35000 [==============================] - 111s 3ms/step - loss: 0.0625 - accuracy: 0.5128 - val_loss: 0.0648 - val_accuracy: 0.5274\n",
      "Epoch 10/20\n",
      "35000/35000 [==============================] - 103s 3ms/step - loss: 0.0625 - accuracy: 0.5124 - val_loss: 0.0648 - val_accuracy: 0.5268\n",
      "Epoch 11/20\n",
      "35000/35000 [==============================] - 101s 3ms/step - loss: 0.0624 - accuracy: 0.5128 - val_loss: 0.0648 - val_accuracy: 0.5273\n",
      "Epoch 12/20\n",
      "35000/35000 [==============================] - 100s 3ms/step - loss: 0.0626 - accuracy: 0.5112 - val_loss: 0.0648 - val_accuracy: 0.5302\n",
      "Epoch 13/20\n",
      "35000/35000 [==============================] - 101s 3ms/step - loss: 0.0626 - accuracy: 0.5145 - val_loss: 0.0648 - val_accuracy: 0.5287\n",
      "Epoch 14/20\n",
      "35000/35000 [==============================] - 96s 3ms/step - loss: 0.0625 - accuracy: 0.5136 - val_loss: 0.0648 - val_accuracy: 0.5287\n",
      "Epoch 15/20\n",
      "35000/35000 [==============================] - 93s 3ms/step - loss: 0.0623 - accuracy: 0.5166 - val_loss: 0.0647 - val_accuracy: 0.5275\n",
      "Epoch 16/20\n",
      "35000/35000 [==============================] - 103s 3ms/step - loss: 0.0623 - accuracy: 0.5147 - val_loss: 0.0647 - val_accuracy: 0.5309\n",
      "Epoch 17/20\n",
      "35000/35000 [==============================] - 102s 3ms/step - loss: 0.0623 - accuracy: 0.5152 - val_loss: 0.0647 - val_accuracy: 0.5293\n",
      "Epoch 18/20\n",
      "35000/35000 [==============================] - 93s 3ms/step - loss: 0.0623 - accuracy: 0.5163 - val_loss: 0.0646 - val_accuracy: 0.5295\n",
      "Epoch 19/20\n",
      "35000/35000 [==============================] - 94s 3ms/step - loss: 0.0623 - accuracy: 0.5152 - val_loss: 0.0645 - val_accuracy: 0.5323\n",
      "Epoch 20/20\n",
      "35000/35000 [==============================] - 95s 3ms/step - loss: 0.0622 - accuracy: 0.5164 - val_loss: 0.0646 - val_accuracy: 0.5287\n"
     ]
    }
   ],
   "source": [
    "train_history = model.fit(x_img_train_normalize, y_label_train_OneHot, \n",
    "                          validation_split=0.3, \n",
    "                          epochs=20, batch_size=256, verbose=1)"
   ]
  },
  {
   "cell_type": "code",
   "execution_count": 54,
   "metadata": {},
   "outputs": [
    {
     "data": {
      "image/png": "[encoded data removed]",
      "text/plain": [
       "<Figure size 432x288 with 1 Axes>"
      ]
     },
     "metadata": {
      "needs_background": "light"
     },
     "output_type": "display_data"
    }
   ],
   "source": [
    "show_acc('accuracy', 'val_accuracy')"
   ]
  },
  {
   "cell_type": "code",
   "execution_count": 55,
   "metadata": {},
   "outputs": [
    {
     "data": {
      "image/png": "[encoded data removed]",
      "text/plain": [
       "<Figure size 432x288 with 1 Axes>"
      ]
     },
     "metadata": {
      "needs_background": "light"
     },
     "output_type": "display_data"
    }
   ],
   "source": [
    "show_loss('loss', 'val_loss')"
   ]
  },
  {
   "cell_type": "markdown",
   "metadata": {},
   "source": [
    "### Binary Crossentropy"
   ]
  },
  {
   "cell_type": "code",
   "execution_count": 57,
   "metadata": {},
   "outputs": [],
   "source": [
    "model.compile(loss='binary_crossentropy', optimizer='sgd', metrics=['accuracy'])"
   ]
  },
  {
   "cell_type": "code",
   "execution_count": 58,
   "metadata": {
    "collapsed": true
   },
   "outputs": [
    {
     "name": "stdout",
     "output_type": "stream",
     "text": [
      "WARNING:tensorflow:From /Users/lishunbin/opt/anaconda3/lib/python3.7/site-packages/tensorflow/python/ops/math_grad.py:1250: add_dispatch_support.<locals>.wrapper (from tensorflow.python.ops.array_ops) is deprecated and will be removed in a future version.\n",
      "Instructions for updating:\n",
      "Use tf.where in 2.0, which has the same broadcast rule as np.where\n",
      "Train on 35000 samples, validate on 15000 samples\n",
      "Epoch 1/20\n",
      "35000/35000 [==============================] - 102s 3ms/step - loss: 0.2107 - accuracy: 0.9176 - val_loss: 0.2199 - val_accuracy: 0.9120\n",
      "Epoch 2/20\n",
      "35000/35000 [==============================] - 91s 3ms/step - loss: 0.2101 - accuracy: 0.9176 - val_loss: 0.2200 - val_accuracy: 0.9119\n",
      "Epoch 3/20\n",
      "35000/35000 [==============================] - 92s 3ms/step - loss: 0.2103 - accuracy: 0.9176 - val_loss: 0.2199 - val_accuracy: 0.9119\n",
      "Epoch 4/20\n",
      "35000/35000 [==============================] - 92s 3ms/step - loss: 0.2098 - accuracy: 0.9177 - val_loss: 0.2191 - val_accuracy: 0.9125\n",
      "Epoch 5/20\n",
      "35000/35000 [==============================] - 96s 3ms/step - loss: 0.2099 - accuracy: 0.9180 - val_loss: 0.2193 - val_accuracy: 0.9122\n",
      "Epoch 6/20\n",
      "35000/35000 [==============================] - 96s 3ms/step - loss: 0.2095 - accuracy: 0.9181 - val_loss: 0.2194 - val_accuracy: 0.9124\n",
      "Epoch 7/20\n",
      "35000/35000 [==============================] - 96s 3ms/step - loss: 0.2094 - accuracy: 0.9177 - val_loss: 0.2192 - val_accuracy: 0.9124\n",
      "Epoch 8/20\n",
      "35000/35000 [==============================] - 92s 3ms/step - loss: 0.2088 - accuracy: 0.9183 - val_loss: 0.2186 - val_accuracy: 0.9123\n",
      "Epoch 9/20\n",
      "35000/35000 [==============================] - 94s 3ms/step - loss: 0.2087 - accuracy: 0.9184 - val_loss: 0.2181 - val_accuracy: 0.9128\n",
      "Epoch 10/20\n",
      "35000/35000 [==============================] - 95s 3ms/step - loss: 0.2088 - accuracy: 0.9182 - val_loss: 0.2179 - val_accuracy: 0.9130\n",
      "Epoch 11/20\n",
      "35000/35000 [==============================] - 102s 3ms/step - loss: 0.2088 - accuracy: 0.9180 - val_loss: 0.2175 - val_accuracy: 0.9130\n",
      "Epoch 12/20\n",
      "35000/35000 [==============================] - 105s 3ms/step - loss: 0.2078 - accuracy: 0.9186 - val_loss: 0.2175 - val_accuracy: 0.9132\n",
      "Epoch 13/20\n",
      "35000/35000 [==============================] - 112s 3ms/step - loss: 0.2078 - accuracy: 0.9183 - val_loss: 0.2175 - val_accuracy: 0.9132\n",
      "Epoch 14/20\n",
      "35000/35000 [==============================] - 105s 3ms/step - loss: 0.2077 - accuracy: 0.9185 - val_loss: 0.2167 - val_accuracy: 0.9135\n",
      "Epoch 15/20\n",
      "35000/35000 [==============================] - 107s 3ms/step - loss: 0.2072 - accuracy: 0.9189 - val_loss: 0.2168 - val_accuracy: 0.9134\n",
      "Epoch 16/20\n",
      "35000/35000 [==============================] - 97s 3ms/step - loss: 0.2070 - accuracy: 0.9190 - val_loss: 0.2158 - val_accuracy: 0.9138\n",
      "Epoch 17/20\n",
      "35000/35000 [==============================] - 97s 3ms/step - loss: 0.2070 - accuracy: 0.9185 - val_loss: 0.2161 - val_accuracy: 0.9138\n",
      "Epoch 18/20\n",
      "35000/35000 [==============================] - 104s 3ms/step - loss: 0.2064 - accuracy: 0.9191 - val_loss: 0.2159 - val_accuracy: 0.9136\n",
      "Epoch 19/20\n",
      "35000/35000 [==============================] - 107s 3ms/step - loss: 0.2062 - accuracy: 0.9190 - val_loss: 0.2153 - val_accuracy: 0.9140\n",
      "Epoch 20/20\n",
      "35000/35000 [==============================] - 98s 3ms/step - loss: 0.2062 - accuracy: 0.9190 - val_loss: 0.2157 - val_accuracy: 0.9138\n"
     ]
    }
   ],
   "source": [
    "train_history = model.fit(x_img_train_normalize, y_label_train_OneHot, \n",
    "                          validation_split=0.3, \n",
    "                          epochs=20, batch_size=256, verbose=1)"
   ]
  },
  {
   "cell_type": "code",
   "execution_count": 59,
   "metadata": {},
   "outputs": [
    {
     "data": {
      "image/png": "[encoded data removed]",
      "text/plain": [
       "<Figure size 432x288 with 1 Axes>"
      ]
     },
     "metadata": {
      "needs_background": "light"
     },
     "output_type": "display_data"
    }
   ],
   "source": [
    "show_acc('accuracy', 'val_accuracy')"
   ]
  },
  {
   "cell_type": "code",
   "execution_count": 60,
   "metadata": {},
   "outputs": [
    {
     "data": {
      "image/png": "[encoded data removed]",
      "text/plain": [
       "<Figure size 432x288 with 1 Axes>"
      ]
     },
     "metadata": {
      "needs_background": "light"
     },
     "output_type": "display_data"
    }
   ],
   "source": [
    "show_loss('loss', 'val_loss')"
   ]
  },
  {
   "cell_type": "code",
   "execution_count": null,
   "metadata": {},
   "outputs": [],
   "source": []
  }
 ],
 "metadata": {
  "colab": {
   "name": "Day71-使用損失函數_HW.ipynb",
   "provenance": [],
   "version": "0.3.2"
  },
  "kernelspec": {
   "display_name": "Python 3",
   "language": "python",
   "name": "python3"
  },
  "language_info": {
   "codemirror_mode": {
    "name": "ipython",
    "version": 3
   },
   "file_extension": ".py",
   "mimetype": "text/x-python",
   "name": "python",
   "nbconvert_exporter": "python",
   "pygments_lexer": "ipython3",
   "version": "3.7.9"
  }
 },
 "nbformat": 4,
 "nbformat_minor": 1
}
