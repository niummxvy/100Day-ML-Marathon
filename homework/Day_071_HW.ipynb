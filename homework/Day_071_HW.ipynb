{
 "cells": [
  {
   "cell_type": "markdown",
   "metadata": {
    "colab_type": "text",
    "id": "cj4tE8e8iUtO"
   },
   "source": [
    "#   \n",
    "\n",
    "# 作業目標:\n",
    "\n",
    "    1. 藉由固定的 dataset, 來驗證不同loss function\n",
    "    2. Dataset 的特性跟我們選用的loss function 對accrancy 的影響\n",
    "    \n",
    "    \n",
    "# 作業重點: \n",
    "    請分別選用 \"MSE\", \"binary _crossentropy\"\n",
    "    查看Train/test accurancy and loss rate\n",
    "    "
   ]
  },
  {
   "cell_type": "markdown",
   "metadata": {
    "colab_type": "text",
    "id": "R51J4KyyiUsL"
   },
   "source": [
    "# 導入必要的函數"
   ]
  },
  {
   "cell_type": "code",
   "execution_count": 1,
   "metadata": {
    "colab": {},
    "colab_type": "code",
    "collapsed": true,
    "id": "Qd68OQjciUsM"
   },
   "outputs": [
    {
     "name": "stderr",
     "output_type": "stream",
     "text": [
      "Using TensorFlow backend.\n",
      "/Users/lishunbin/opt/anaconda3/lib/python3.7/site-packages/tensorflow/python/framework/dtypes.py:516: FutureWarning: Passing (type, 1) or '1type' as a synonym of type is deprecated; in a future version of numpy, it will be understood as (type, (1,)) / '(1,)type'.\n",
      "  _np_qint8 = np.dtype([(\"qint8\", np.int8, 1)])\n",
      "/Users/lishunbin/opt/anaconda3/lib/python3.7/site-packages/tensorflow/python/framework/dtypes.py:517: FutureWarning: Passing (type, 1) or '1type' as a synonym of type is deprecated; in a future version of numpy, it will be understood as (type, (1,)) / '(1,)type'.\n",
      "  _np_quint8 = np.dtype([(\"quint8\", np.uint8, 1)])\n",
      "/Users/lishunbin/opt/anaconda3/lib/python3.7/site-packages/tensorflow/python/framework/dtypes.py:518: FutureWarning: Passing (type, 1) or '1type' as a synonym of type is deprecated; in a future version of numpy, it will be understood as (type, (1,)) / '(1,)type'.\n",
      "  _np_qint16 = np.dtype([(\"qint16\", np.int16, 1)])\n",
      "/Users/lishunbin/opt/anaconda3/lib/python3.7/site-packages/tensorflow/python/framework/dtypes.py:519: FutureWarning: Passing (type, 1) or '1type' as a synonym of type is deprecated; in a future version of numpy, it will be understood as (type, (1,)) / '(1,)type'.\n",
      "  _np_quint16 = np.dtype([(\"quint16\", np.uint16, 1)])\n",
      "/Users/lishunbin/opt/anaconda3/lib/python3.7/site-packages/tensorflow/python/framework/dtypes.py:520: FutureWarning: Passing (type, 1) or '1type' as a synonym of type is deprecated; in a future version of numpy, it will be understood as (type, (1,)) / '(1,)type'.\n",
      "  _np_qint32 = np.dtype([(\"qint32\", np.int32, 1)])\n",
      "/Users/lishunbin/opt/anaconda3/lib/python3.7/site-packages/tensorflow/python/framework/dtypes.py:525: FutureWarning: Passing (type, 1) or '1type' as a synonym of type is deprecated; in a future version of numpy, it will be understood as (type, (1,)) / '(1,)type'.\n",
      "  np_resource = np.dtype([(\"resource\", np.ubyte, 1)])\n",
      "/Users/lishunbin/opt/anaconda3/lib/python3.7/site-packages/tensorboard/compat/tensorflow_stub/dtypes.py:541: FutureWarning: Passing (type, 1) or '1type' as a synonym of type is deprecated; in a future version of numpy, it will be understood as (type, (1,)) / '(1,)type'.\n",
      "  _np_qint8 = np.dtype([(\"qint8\", np.int8, 1)])\n",
      "/Users/lishunbin/opt/anaconda3/lib/python3.7/site-packages/tensorboard/compat/tensorflow_stub/dtypes.py:542: FutureWarning: Passing (type, 1) or '1type' as a synonym of type is deprecated; in a future version of numpy, it will be understood as (type, (1,)) / '(1,)type'.\n",
      "  _np_quint8 = np.dtype([(\"quint8\", np.uint8, 1)])\n",
      "/Users/lishunbin/opt/anaconda3/lib/python3.7/site-packages/tensorboard/compat/tensorflow_stub/dtypes.py:543: FutureWarning: Passing (type, 1) or '1type' as a synonym of type is deprecated; in a future version of numpy, it will be understood as (type, (1,)) / '(1,)type'.\n",
      "  _np_qint16 = np.dtype([(\"qint16\", np.int16, 1)])\n",
      "/Users/lishunbin/opt/anaconda3/lib/python3.7/site-packages/tensorboard/compat/tensorflow_stub/dtypes.py:544: FutureWarning: Passing (type, 1) or '1type' as a synonym of type is deprecated; in a future version of numpy, it will be understood as (type, (1,)) / '(1,)type'.\n",
      "  _np_quint16 = np.dtype([(\"quint16\", np.uint16, 1)])\n",
      "/Users/lishunbin/opt/anaconda3/lib/python3.7/site-packages/tensorboard/compat/tensorflow_stub/dtypes.py:545: FutureWarning: Passing (type, 1) or '1type' as a synonym of type is deprecated; in a future version of numpy, it will be understood as (type, (1,)) / '(1,)type'.\n",
      "  _np_qint32 = np.dtype([(\"qint32\", np.int32, 1)])\n",
      "/Users/lishunbin/opt/anaconda3/lib/python3.7/site-packages/tensorboard/compat/tensorflow_stub/dtypes.py:550: FutureWarning: Passing (type, 1) or '1type' as a synonym of type is deprecated; in a future version of numpy, it will be understood as (type, (1,)) / '(1,)type'.\n",
      "  np_resource = np.dtype([(\"resource\", np.ubyte, 1)])\n"
     ]
    }
   ],
   "source": [
    "from keras.datasets import cifar10\n",
    "import numpy as np\n",
    "np.random.seed(10)"
   ]
  },
  {
   "cell_type": "markdown",
   "metadata": {
    "colab_type": "text",
    "id": "GxKuzQLQiUsP"
   },
   "source": [
    "# 資料準備"
   ]
  },
  {
   "cell_type": "code",
   "execution_count": 2,
   "metadata": {
    "colab": {},
    "colab_type": "code",
    "id": "MIbFZdTCiUsQ"
   },
   "outputs": [
    {
     "name": "stdout",
     "output_type": "stream",
     "text": [
      "Downloading data from https://www.cs.toronto.edu/~kriz/cifar-10-python.tar.gz\n",
      "170500096/170498071 [==============================] - 35s 0us/step\n"
     ]
    }
   ],
   "source": [
    "#取得Keras Dataset\n",
    "(x_img_train,y_label_train),(x_img_test,y_label_test)=cifar10.load_data()"
   ]
  },
  {
   "cell_type": "code",
   "execution_count": 3,
   "metadata": {
    "colab": {},
    "colab_type": "code",
    "id": "J8CJVjNOiUsS"
   },
   "outputs": [
    {
     "name": "stdout",
     "output_type": "stream",
     "text": [
      "train data: images: (50000, 32, 32, 3)  labels: (50000, 1)\n",
      "test  data: images: (10000, 32, 32, 3)  labels: (10000, 1)\n"
     ]
    }
   ],
   "source": [
    "#確認 CIFAR10 Dataset 資料維度\n",
    "print(\"train data:\",'images:',x_img_train.shape,\n",
    "      \" labels:\",y_label_train.shape) \n",
    "print(\"test  data:\",'images:',x_img_test.shape ,\n",
    "      \" labels:\",y_label_test.shape) "
   ]
  },
  {
   "cell_type": "code",
   "execution_count": 4,
   "metadata": {
    "colab": {},
    "colab_type": "code",
    "id": "V3P6P4DXiUsV"
   },
   "outputs": [],
   "source": [
    "#資料正規化\n",
    "x_img_train_normalize = x_img_train.astype('float32') / 255.0\n",
    "x_img_test_normalize = x_img_test.astype('float32') / 255.0"
   ]
  },
  {
   "cell_type": "code",
   "execution_count": 5,
   "metadata": {
    "colab": {},
    "colab_type": "code",
    "id": "vsDyjKYliUsX"
   },
   "outputs": [
    {
     "data": {
      "text/plain": [
       "(10000, 10)"
      ]
     },
     "execution_count": 5,
     "metadata": {},
     "output_type": "execute_result"
    }
   ],
   "source": [
    "#針對Label 做 ONE HOT ENCODE\n",
    "from keras.utils import np_utils\n",
    "y_label_train_OneHot = np_utils.to_categorical(y_label_train)\n",
    "y_label_test_OneHot = np_utils.to_categorical(y_label_test)\n",
    "y_label_test_OneHot.shape"
   ]
  },
  {
   "cell_type": "markdown",
   "metadata": {
    "colab_type": "text",
    "id": "RutW2OtgiUsZ"
   },
   "source": [
    "# 建立模型"
   ]
  },
  {
   "cell_type": "code",
   "execution_count": 6,
   "metadata": {
    "colab": {},
    "colab_type": "code",
    "id": "aHz592aXiUsa"
   },
   "outputs": [],
   "source": [
    "from keras.models import Sequential\n",
    "from keras.layers import Dense, Dropout, Activation, Flatten\n",
    "from keras.layers import Conv2D, MaxPooling2D, ZeroPadding2D"
   ]
  },
  {
   "cell_type": "code",
   "execution_count": 86,
   "metadata": {
    "colab": {},
    "colab_type": "code",
    "id": "hslqrIp0iUse"
   },
   "outputs": [],
   "source": [
    "model = Sequential()"
   ]
  },
  {
   "cell_type": "code",
   "execution_count": 87,
   "metadata": {
    "colab": {},
    "colab_type": "code",
    "id": "Hqe35hs2iUsi"
   },
   "outputs": [],
   "source": [
    "#卷積層1"
   ]
  },
  {
   "cell_type": "code",
   "execution_count": 88,
   "metadata": {
    "colab": {},
    "colab_type": "code",
    "id": "ED7dqe1YiUsm"
   },
   "outputs": [],
   "source": [
    "model.add(Conv2D(filters=32,kernel_size=(3,3),\n",
    "                 input_shape=(32, 32,3), \n",
    "                 activation='relu', \n",
    "                 padding='same'))"
   ]
  },
  {
   "cell_type": "code",
   "execution_count": 89,
   "metadata": {
    "colab": {},
    "colab_type": "code",
    "id": "n-GRKmPViUso"
   },
   "outputs": [],
   "source": [
    "model.add(Dropout(rate=0.25))"
   ]
  },
  {
   "cell_type": "code",
   "execution_count": 90,
   "metadata": {
    "colab": {},
    "colab_type": "code",
    "id": "GlWnnD1uiUsw"
   },
   "outputs": [],
   "source": [
    "model.add(MaxPooling2D(pool_size=(2, 2)))"
   ]
  },
  {
   "cell_type": "code",
   "execution_count": 91,
   "metadata": {
    "colab": {},
    "colab_type": "code",
    "id": "nawlkt55iUsy"
   },
   "outputs": [],
   "source": [
    "#卷積層2與池化層2"
   ]
  },
  {
   "cell_type": "code",
   "execution_count": 92,
   "metadata": {
    "colab": {},
    "colab_type": "code",
    "id": "xxyETiKNiUs1"
   },
   "outputs": [],
   "source": [
    "model.add(Conv2D(filters=64, kernel_size=(3, 3), \n",
    "                 activation='relu', padding='same'))"
   ]
  },
  {
   "cell_type": "code",
   "execution_count": 93,
   "metadata": {
    "colab": {},
    "colab_type": "code",
    "id": "RqcKWtqGiUs2"
   },
   "outputs": [],
   "source": [
    "model.add(Dropout(0.25))"
   ]
  },
  {
   "cell_type": "code",
   "execution_count": 94,
   "metadata": {
    "colab": {},
    "colab_type": "code",
    "id": "BUOOzlqfiUs4"
   },
   "outputs": [],
   "source": [
    "model.add(MaxPooling2D(pool_size=(2, 2)))"
   ]
  },
  {
   "cell_type": "code",
   "execution_count": 95,
   "metadata": {
    "colab": {},
    "colab_type": "code",
    "id": "LpkppB2siUs7"
   },
   "outputs": [],
   "source": [
    "#建立神經網路(平坦層、隱藏層、輸出層)"
   ]
  },
  {
   "cell_type": "code",
   "execution_count": 96,
   "metadata": {
    "colab": {},
    "colab_type": "code",
    "id": "UQOfU54_iUs_"
   },
   "outputs": [],
   "source": [
    "model.add(Flatten())\n",
    "model.add(Dropout(rate=0.25))"
   ]
  },
  {
   "cell_type": "code",
   "execution_count": 97,
   "metadata": {
    "colab": {},
    "colab_type": "code",
    "id": "_NV-8sq4iUtD"
   },
   "outputs": [],
   "source": [
    "model.add(Dense(1024, activation='relu'))\n",
    "model.add(Dropout(rate=0.25))"
   ]
  },
  {
   "cell_type": "code",
   "execution_count": 98,
   "metadata": {
    "colab": {},
    "colab_type": "code",
    "id": "qVK77krOiUtF"
   },
   "outputs": [],
   "source": [
    "model.add(Dense(10, activation='softmax'))"
   ]
  },
  {
   "cell_type": "code",
   "execution_count": 99,
   "metadata": {
    "colab": {},
    "colab_type": "code",
    "id": "ZxzRIjR0iUtH"
   },
   "outputs": [
    {
     "name": "stdout",
     "output_type": "stream",
     "text": [
      "Model: \"sequential_3\"\n",
      "_________________________________________________________________\n",
      "Layer (type)                 Output Shape              Param #   \n",
      "=================================================================\n",
      "conv2d_5 (Conv2D)            (None, 32, 32, 32)        896       \n",
      "_________________________________________________________________\n",
      "dropout_9 (Dropout)          (None, 32, 32, 32)        0         \n",
      "_________________________________________________________________\n",
      "max_pooling2d_5 (MaxPooling2 (None, 16, 16, 32)        0         \n",
      "_________________________________________________________________\n",
      "conv2d_6 (Conv2D)            (None, 16, 16, 64)        18496     \n",
      "_________________________________________________________________\n",
      "dropout_10 (Dropout)         (None, 16, 16, 64)        0         \n",
      "_________________________________________________________________\n",
      "max_pooling2d_6 (MaxPooling2 (None, 8, 8, 64)          0         \n",
      "_________________________________________________________________\n",
      "flatten_3 (Flatten)          (None, 4096)              0         \n",
      "_________________________________________________________________\n",
      "dropout_11 (Dropout)         (None, 4096)              0         \n",
      "_________________________________________________________________\n",
      "dense_5 (Dense)              (None, 1024)              4195328   \n",
      "_________________________________________________________________\n",
      "dropout_12 (Dropout)         (None, 1024)              0         \n",
      "_________________________________________________________________\n",
      "dense_6 (Dense)              (None, 10)                10250     \n",
      "=================================================================\n",
      "Total params: 4,224,970\n",
      "Trainable params: 4,224,970\n",
      "Non-trainable params: 0\n",
      "_________________________________________________________________\n",
      "None\n"
     ]
    }
   ],
   "source": [
    "#檢查model 的STACK\n",
    "print(model.summary())"
   ]
  },
  {
   "cell_type": "markdown",
   "metadata": {
    "colab_type": "text",
    "id": "QJCtpJM0iUtJ"
   },
   "source": [
    "# 載入之前訓練的模型"
   ]
  },
  {
   "cell_type": "code",
   "execution_count": 100,
   "metadata": {
    "colab": {},
    "colab_type": "code",
    "id": "JU3A6NzQiUtK"
   },
   "outputs": [
    {
     "name": "stdout",
     "output_type": "stream",
     "text": [
      "載入模型失敗!開始訓練一個新模型\n"
     ]
    }
   ],
   "source": [
    "try:\n",
    "    model.load_weights(\"SaveModel/cifarCnnModel.h5\")\n",
    "    print(\"載入模型成功!繼續訓練模型\")\n",
    "except :    \n",
    "    print(\"載入模型失敗!開始訓練一個新模型\")"
   ]
  },
  {
   "cell_type": "markdown",
   "metadata": {
    "colab_type": "text",
    "id": "qBbCuziziUtM"
   },
   "source": [
    "# 訓練模型"
   ]
  },
  {
   "cell_type": "markdown",
   "metadata": {},
   "source": [
    "### Categorical Crossentropy"
   ]
  },
  {
   "cell_type": "code",
   "execution_count": 101,
   "metadata": {
    "colab": {},
    "colab_type": "code",
    "id": "Q6BiBcseiUtP"
   },
   "outputs": [
    {
     "data": {
      "text/plain": [
       "'\\n作業:\\n請分別選用 \"MSE\", \"binary _crossentropy\"\\n查看Train/test accurancy and loss rate\\n'"
      ]
     },
     "execution_count": 101,
     "metadata": {},
     "output_type": "execute_result"
    }
   ],
   "source": [
    "model.compile(loss='categorical_crossentropy', optimizer='sgd', metrics=['accuracy'])\n",
    "\n",
    "'''\n",
    "作業:\n",
    "請分別選用 \"MSE\", \"binary _crossentropy\"\n",
    "查看Train/test accurancy and loss rate\n",
    "'''"
   ]
  },
  {
   "cell_type": "code",
   "execution_count": 102,
   "metadata": {
    "colab": {},
    "colab_type": "code",
    "id": "4-GdDgmQiUtS"
   },
   "outputs": [
    {
     "name": "stdout",
     "output_type": "stream",
     "text": [
      "Train on 40000 samples, validate on 10000 samples\n",
      "Epoch 1/50\n",
      "40000/40000 [==============================] - 100s 2ms/step - loss: 2.2696 - accuracy: 0.1403 - val_loss: 2.2337 - val_accuracy: 0.2094\n",
      "Epoch 2/50\n",
      "40000/40000 [==============================] - 96s 2ms/step - loss: 2.1604 - accuracy: 0.2119 - val_loss: 2.1410 - val_accuracy: 0.2721\n",
      "Epoch 3/50\n",
      "40000/40000 [==============================] - 105s 3ms/step - loss: 2.0577 - accuracy: 0.2481 - val_loss: 2.1153 - val_accuracy: 0.2361\n",
      "Epoch 4/50\n",
      "40000/40000 [==============================] - 97s 2ms/step - loss: 2.0060 - accuracy: 0.2719 - val_loss: 2.0310 - val_accuracy: 0.2878\n",
      "Epoch 5/50\n",
      "40000/40000 [==============================] - 95s 2ms/step - loss: 1.9731 - accuracy: 0.2899 - val_loss: 1.9990 - val_accuracy: 0.3217\n",
      "Epoch 6/50\n",
      "40000/40000 [==============================] - 95s 2ms/step - loss: 1.9392 - accuracy: 0.3052 - val_loss: 1.9694 - val_accuracy: 0.3333\n",
      "Epoch 7/50\n",
      "40000/40000 [==============================] - 95s 2ms/step - loss: 1.9090 - accuracy: 0.3196 - val_loss: 1.9442 - val_accuracy: 0.3444\n",
      "Epoch 8/50\n",
      "40000/40000 [==============================] - 95s 2ms/step - loss: 1.8760 - accuracy: 0.3345 - val_loss: 1.9133 - val_accuracy: 0.3602\n",
      "Epoch 9/50\n",
      "40000/40000 [==============================] - 95s 2ms/step - loss: 1.8445 - accuracy: 0.3471 - val_loss: 1.9027 - val_accuracy: 0.3705\n",
      "Epoch 10/50\n",
      "40000/40000 [==============================] - 95s 2ms/step - loss: 1.8084 - accuracy: 0.3598 - val_loss: 1.8562 - val_accuracy: 0.3795\n",
      "Epoch 11/50\n",
      "40000/40000 [==============================] - 95s 2ms/step - loss: 1.7797 - accuracy: 0.3691 - val_loss: 1.8211 - val_accuracy: 0.3881\n",
      "Epoch 12/50\n",
      "40000/40000 [==============================] - 95s 2ms/step - loss: 1.7566 - accuracy: 0.3768 - val_loss: 1.7950 - val_accuracy: 0.4026\n",
      "Epoch 13/50\n",
      "40000/40000 [==============================] - 95s 2ms/step - loss: 1.7257 - accuracy: 0.3886 - val_loss: 1.7695 - val_accuracy: 0.4202\n",
      "Epoch 14/50\n",
      "40000/40000 [==============================] - 95s 2ms/step - loss: 1.7013 - accuracy: 0.3976 - val_loss: 1.7502 - val_accuracy: 0.4154\n",
      "Epoch 15/50\n",
      "40000/40000 [==============================] - 95s 2ms/step - loss: 1.6799 - accuracy: 0.4016 - val_loss: 1.7261 - val_accuracy: 0.4288\n",
      "Epoch 16/50\n",
      "40000/40000 [==============================] - 95s 2ms/step - loss: 1.6528 - accuracy: 0.4119 - val_loss: 1.7028 - val_accuracy: 0.4291\n",
      "Epoch 17/50\n",
      "40000/40000 [==============================] - 95s 2ms/step - loss: 1.6363 - accuracy: 0.4194 - val_loss: 1.7117 - val_accuracy: 0.4297\n",
      "Epoch 18/50\n",
      "40000/40000 [==============================] - 95s 2ms/step - loss: 1.6102 - accuracy: 0.4273 - val_loss: 1.6699 - val_accuracy: 0.4505\n",
      "Epoch 19/50\n",
      "40000/40000 [==============================] - 95s 2ms/step - loss: 1.5998 - accuracy: 0.4279 - val_loss: 1.6617 - val_accuracy: 0.4422\n",
      "Epoch 20/50\n",
      "40000/40000 [==============================] - 105s 3ms/step - loss: 1.5820 - accuracy: 0.4336 - val_loss: 1.6415 - val_accuracy: 0.4641\n",
      "Epoch 21/50\n",
      "40000/40000 [==============================] - 98s 2ms/step - loss: 1.5615 - accuracy: 0.4426 - val_loss: 1.6161 - val_accuracy: 0.4686\n",
      "Epoch 22/50\n",
      "40000/40000 [==============================] - 97s 2ms/step - loss: 1.5418 - accuracy: 0.4462 - val_loss: 1.6096 - val_accuracy: 0.4592\n",
      "Epoch 23/50\n",
      "40000/40000 [==============================] - 99s 2ms/step - loss: 1.5277 - accuracy: 0.4505 - val_loss: 1.5972 - val_accuracy: 0.4635\n",
      "Epoch 24/50\n",
      "40000/40000 [==============================] - 99s 2ms/step - loss: 1.5159 - accuracy: 0.4559 - val_loss: 1.5884 - val_accuracy: 0.4674\n",
      "Epoch 25/50\n",
      "40000/40000 [==============================] - 95s 2ms/step - loss: 1.5012 - accuracy: 0.4629 - val_loss: 1.5721 - val_accuracy: 0.4714\n",
      "Epoch 26/50\n",
      "40000/40000 [==============================] - 96s 2ms/step - loss: 1.4876 - accuracy: 0.4660 - val_loss: 1.5599 - val_accuracy: 0.4863\n",
      "Epoch 27/50\n",
      "40000/40000 [==============================] - 95s 2ms/step - loss: 1.4737 - accuracy: 0.4697 - val_loss: 1.5323 - val_accuracy: 0.4922\n",
      "Epoch 28/50\n",
      "40000/40000 [==============================] - 95s 2ms/step - loss: 1.4602 - accuracy: 0.4777 - val_loss: 1.5182 - val_accuracy: 0.4997\n",
      "Epoch 29/50\n",
      "40000/40000 [==============================] - 95s 2ms/step - loss: 1.4556 - accuracy: 0.4764 - val_loss: 1.5606 - val_accuracy: 0.4883\n",
      "Epoch 30/50\n",
      "40000/40000 [==============================] - 95s 2ms/step - loss: 1.4452 - accuracy: 0.4824 - val_loss: 1.5630 - val_accuracy: 0.4586\n",
      "Epoch 31/50\n",
      "40000/40000 [==============================] - 95s 2ms/step - loss: 1.4349 - accuracy: 0.4836 - val_loss: 1.5398 - val_accuracy: 0.4897\n",
      "Epoch 32/50\n",
      "40000/40000 [==============================] - 97s 2ms/step - loss: 1.4323 - accuracy: 0.4888 - val_loss: 1.4964 - val_accuracy: 0.4975\n",
      "Epoch 33/50\n",
      "40000/40000 [==============================] - 95s 2ms/step - loss: 1.4132 - accuracy: 0.4940 - val_loss: 1.4740 - val_accuracy: 0.5123\n",
      "Epoch 34/50\n",
      "40000/40000 [==============================] - 109s 3ms/step - loss: 1.4066 - accuracy: 0.4974 - val_loss: 1.5021 - val_accuracy: 0.4854\n",
      "Epoch 35/50\n",
      "40000/40000 [==============================] - 120s 3ms/step - loss: 1.4009 - accuracy: 0.4981 - val_loss: 1.4791 - val_accuracy: 0.5033\n",
      "Epoch 36/50\n",
      "40000/40000 [==============================] - 113s 3ms/step - loss: 1.3897 - accuracy: 0.5042 - val_loss: 1.4903 - val_accuracy: 0.4903\n",
      "Epoch 37/50\n",
      "40000/40000 [==============================] - 114s 3ms/step - loss: 1.3820 - accuracy: 0.5048 - val_loss: 1.4443 - val_accuracy: 0.5197\n",
      "Epoch 38/50\n",
      "40000/40000 [==============================] - 114s 3ms/step - loss: 1.3707 - accuracy: 0.5094 - val_loss: 1.4770 - val_accuracy: 0.5116\n",
      "Epoch 39/50\n",
      "40000/40000 [==============================] - 114s 3ms/step - loss: 1.3719 - accuracy: 0.5094 - val_loss: 1.4294 - val_accuracy: 0.5284\n",
      "Epoch 40/50\n",
      "40000/40000 [==============================] - 110s 3ms/step - loss: 1.3579 - accuracy: 0.5142 - val_loss: 1.4370 - val_accuracy: 0.5185\n",
      "Epoch 41/50\n",
      "40000/40000 [==============================] - 107s 3ms/step - loss: 1.3530 - accuracy: 0.5159 - val_loss: 1.4258 - val_accuracy: 0.5242\n",
      "Epoch 42/50\n",
      "40000/40000 [==============================] - 107s 3ms/step - loss: 1.3444 - accuracy: 0.5183 - val_loss: 1.4064 - val_accuracy: 0.5441\n",
      "Epoch 43/50\n",
      "40000/40000 [==============================] - 105s 3ms/step - loss: 1.3388 - accuracy: 0.5207 - val_loss: 1.4119 - val_accuracy: 0.5406\n",
      "Epoch 44/50\n",
      "40000/40000 [==============================] - 106s 3ms/step - loss: 1.3305 - accuracy: 0.5251 - val_loss: 1.4002 - val_accuracy: 0.5349\n",
      "Epoch 45/50\n",
      "40000/40000 [==============================] - 107s 3ms/step - loss: 1.3267 - accuracy: 0.5256 - val_loss: 1.3884 - val_accuracy: 0.5441\n",
      "Epoch 46/50\n",
      "40000/40000 [==============================] - 95s 2ms/step - loss: 1.3157 - accuracy: 0.5296 - val_loss: 1.4051 - val_accuracy: 0.5368\n",
      "Epoch 47/50\n",
      "40000/40000 [==============================] - 94s 2ms/step - loss: 1.3147 - accuracy: 0.5328 - val_loss: 1.4597 - val_accuracy: 0.5075\n",
      "Epoch 48/50\n",
      "40000/40000 [==============================] - 95s 2ms/step - loss: 1.3087 - accuracy: 0.5354 - val_loss: 1.4444 - val_accuracy: 0.4887\n",
      "Epoch 49/50\n",
      "40000/40000 [==============================] - 95s 2ms/step - loss: 1.3026 - accuracy: 0.5378 - val_loss: 1.3637 - val_accuracy: 0.5547\n",
      "Epoch 50/50\n",
      "40000/40000 [==============================] - 94s 2ms/step - loss: 1.2889 - accuracy: 0.5400 - val_loss: 1.3896 - val_accuracy: 0.5231\n"
     ]
    }
   ],
   "source": [
    "train_history = model.fit(x_img_train_normalize, y_label_train_OneHot, \n",
    "                          validation_split=0.2, \n",
    "                          epochs=50, batch_size=512, verbose=1)"
   ]
  },
  {
   "cell_type": "code",
   "execution_count": 103,
   "metadata": {},
   "outputs": [],
   "source": [
    "import matplotlib.pyplot as plt\n",
    "%matplotlib inline\n",
    "\n",
    "# draw function\n",
    "def show_acc(train_acc, test_acc):\n",
    "    plt.plot(train_history.history[train_acc])\n",
    "    plt.plot(train_history.history[test_acc])\n",
    "    plt.title('Train History')\n",
    "    plt.ylabel('Accuracy')\n",
    "    plt.xlabel('Epoch')\n",
    "    plt.legend(['train_acc', 'val_acc'], loc='upper left')\n",
    "    plt.show()"
   ]
  },
  {
   "cell_type": "code",
   "execution_count": 104,
   "metadata": {},
   "outputs": [
    {
     "data": {
      "image/png": "[encoded data removed]",
      "text/plain": [
       "<Figure size 432x288 with 1 Axes>"
      ]
     },
     "metadata": {
      "needs_background": "light"
     },
     "output_type": "display_data"
    }
   ],
   "source": [
    "show_acc('accuracy', 'val_accuracy')\n",
    "# 因為keras庫的版本不同，所以要把acc改成accuracy"
   ]
  },
  {
   "cell_type": "code",
   "execution_count": 105,
   "metadata": {},
   "outputs": [],
   "source": [
    "def show_loss(train_acc, test_acc):\n",
    "    plt.plot(train_history.history['loss'])\n",
    "    plt.plot(train_history.history['val_loss'])\n",
    "    plt.title('Train History')\n",
    "    plt.ylabel('Loss')\n",
    "    plt.xlabel('Epoch')\n",
    "    plt.legend(['train_loss', 'val_loss'], loc='upper left')\n",
    "    plt.show()"
   ]
  },
  {
   "cell_type": "code",
   "execution_count": 106,
   "metadata": {
    "scrolled": true
   },
   "outputs": [
    {
     "data": {
      "image/png": "[encoded data removed]",
      "text/plain": [
       "<Figure size 432x288 with 1 Axes>"
      ]
     },
     "metadata": {
      "needs_background": "light"
     },
     "output_type": "display_data"
    }
   ],
   "source": [
    "show_loss('loss', 'val_loss')"
   ]
  },
  {
   "cell_type": "code",
   "execution_count": 107,
   "metadata": {},
   "outputs": [
    {
     "name": "stdout",
     "output_type": "stream",
     "text": [
      "10000/10000 [==============================] - 9s 897us/step\n",
      "\n",
      "loss:  1.375065787124634 \n",
      "accuracy:  0.5257999897003174\n"
     ]
    }
   ],
   "source": [
    "scores = model.evaluate(x_img_test_normalize, y_label_test_OneHot)\n",
    "print()\n",
    "print('loss: ', scores[0],\n",
    "      '\\naccuracy: ',scores[1])"
   ]
  },
  {
   "cell_type": "markdown",
   "metadata": {},
   "source": [
    "### MSE"
   ]
  },
  {
   "cell_type": "code",
   "execution_count": 108,
   "metadata": {},
   "outputs": [],
   "source": [
    "model.compile(loss='MSE', optimizer='sgd', metrics=['accuracy'])"
   ]
  },
  {
   "cell_type": "code",
   "execution_count": 109,
   "metadata": {},
   "outputs": [
    {
     "name": "stdout",
     "output_type": "stream",
     "text": [
      "Train on 40000 samples, validate on 10000 samples\n",
      "Epoch 1/50\n",
      "40000/40000 [==============================] - 98s 2ms/step - loss: 0.0594 - accuracy: 0.5430 - val_loss: 0.0616 - val_accuracy: 0.5595\n",
      "Epoch 2/50\n",
      "40000/40000 [==============================] - 94s 2ms/step - loss: 0.0591 - accuracy: 0.5447 - val_loss: 0.0615 - val_accuracy: 0.5620\n",
      "Epoch 3/50\n",
      "40000/40000 [==============================] - 95s 2ms/step - loss: 0.0588 - accuracy: 0.5470 - val_loss: 0.0616 - val_accuracy: 0.5580\n",
      "Epoch 4/50\n",
      "40000/40000 [==============================] - 107s 3ms/step - loss: 0.0590 - accuracy: 0.5454 - val_loss: 0.0615 - val_accuracy: 0.5609\n",
      "Epoch 5/50\n",
      "40000/40000 [==============================] - 118s 3ms/step - loss: 0.0590 - accuracy: 0.5458 - val_loss: 0.0614 - val_accuracy: 0.5608\n",
      "Epoch 6/50\n",
      "40000/40000 [==============================] - 100s 3ms/step - loss: 0.0588 - accuracy: 0.5494 - val_loss: 0.0615 - val_accuracy: 0.5596\n",
      "Epoch 7/50\n",
      "40000/40000 [==============================] - 107s 3ms/step - loss: 0.0590 - accuracy: 0.5440 - val_loss: 0.0614 - val_accuracy: 0.5605\n",
      "Epoch 8/50\n",
      "40000/40000 [==============================] - 105s 3ms/step - loss: 0.0590 - accuracy: 0.5458 - val_loss: 0.0614 - val_accuracy: 0.5614\n",
      "Epoch 9/50\n",
      "40000/40000 [==============================] - 101s 3ms/step - loss: 0.0589 - accuracy: 0.5452 - val_loss: 0.0614 - val_accuracy: 0.5618\n",
      "Epoch 10/50\n",
      "40000/40000 [==============================] - 103s 3ms/step - loss: 0.0589 - accuracy: 0.5453 - val_loss: 0.0613 - val_accuracy: 0.5623\n",
      "Epoch 11/50\n",
      "40000/40000 [==============================] - 100s 2ms/step - loss: 0.0589 - accuracy: 0.5468 - val_loss: 0.0613 - val_accuracy: 0.5620\n",
      "Epoch 12/50\n",
      "40000/40000 [==============================] - 98s 2ms/step - loss: 0.0589 - accuracy: 0.5462 - val_loss: 0.0613 - val_accuracy: 0.5615\n",
      "Epoch 13/50\n",
      "40000/40000 [==============================] - 97s 2ms/step - loss: 0.0587 - accuracy: 0.5469 - val_loss: 0.0613 - val_accuracy: 0.5606\n",
      "Epoch 14/50\n",
      "40000/40000 [==============================] - 95s 2ms/step - loss: 0.0589 - accuracy: 0.5461 - val_loss: 0.0613 - val_accuracy: 0.5622\n",
      "Epoch 15/50\n",
      "40000/40000 [==============================] - 94s 2ms/step - loss: 0.0588 - accuracy: 0.5478 - val_loss: 0.0612 - val_accuracy: 0.5634\n",
      "Epoch 16/50\n",
      "40000/40000 [==============================] - 94s 2ms/step - loss: 0.0587 - accuracy: 0.5467 - val_loss: 0.0612 - val_accuracy: 0.5627\n",
      "Epoch 17/50\n",
      "40000/40000 [==============================] - 95s 2ms/step - loss: 0.0587 - accuracy: 0.5475 - val_loss: 0.0612 - val_accuracy: 0.5626\n",
      "Epoch 18/50\n",
      "40000/40000 [==============================] - 97s 2ms/step - loss: 0.0589 - accuracy: 0.5469 - val_loss: 0.0612 - val_accuracy: 0.5636\n",
      "Epoch 19/50\n",
      "40000/40000 [==============================] - 94s 2ms/step - loss: 0.0589 - accuracy: 0.5454 - val_loss: 0.0612 - val_accuracy: 0.5649\n",
      "Epoch 20/50\n",
      "40000/40000 [==============================] - 94s 2ms/step - loss: 0.0587 - accuracy: 0.5492 - val_loss: 0.0612 - val_accuracy: 0.5619\n",
      "Epoch 21/50\n",
      "40000/40000 [==============================] - 94s 2ms/step - loss: 0.0586 - accuracy: 0.5463 - val_loss: 0.0612 - val_accuracy: 0.5629\n",
      "Epoch 22/50\n",
      "40000/40000 [==============================] - 94s 2ms/step - loss: 0.0588 - accuracy: 0.5466 - val_loss: 0.0612 - val_accuracy: 0.5625\n",
      "Epoch 23/50\n",
      "40000/40000 [==============================] - 96s 2ms/step - loss: 0.0587 - accuracy: 0.5467 - val_loss: 0.0611 - val_accuracy: 0.5630\n",
      "Epoch 24/50\n",
      "40000/40000 [==============================] - 95s 2ms/step - loss: 0.0587 - accuracy: 0.5487 - val_loss: 0.0611 - val_accuracy: 0.5640\n",
      "Epoch 25/50\n",
      "40000/40000 [==============================] - 95s 2ms/step - loss: 0.0586 - accuracy: 0.5488 - val_loss: 0.0611 - val_accuracy: 0.5633\n",
      "Epoch 26/50\n",
      "40000/40000 [==============================] - 95s 2ms/step - loss: 0.0587 - accuracy: 0.5486 - val_loss: 0.0611 - val_accuracy: 0.5637\n",
      "Epoch 27/50\n",
      "40000/40000 [==============================] - 95s 2ms/step - loss: 0.0585 - accuracy: 0.5512 - val_loss: 0.0610 - val_accuracy: 0.5648\n",
      "Epoch 28/50\n",
      "40000/40000 [==============================] - 103s 3ms/step - loss: 0.0586 - accuracy: 0.5483 - val_loss: 0.0610 - val_accuracy: 0.5647\n",
      "Epoch 29/50\n",
      "40000/40000 [==============================] - 111s 3ms/step - loss: 0.0587 - accuracy: 0.5483 - val_loss: 0.0610 - val_accuracy: 0.5646\n",
      "Epoch 30/50\n",
      "40000/40000 [==============================] - 106s 3ms/step - loss: 0.0586 - accuracy: 0.5483 - val_loss: 0.0610 - val_accuracy: 0.5660\n",
      "Epoch 31/50\n",
      "40000/40000 [==============================] - 108s 3ms/step - loss: 0.0587 - accuracy: 0.5479 - val_loss: 0.0611 - val_accuracy: 0.5624\n",
      "Epoch 32/50\n",
      "40000/40000 [==============================] - 106s 3ms/step - loss: 0.0586 - accuracy: 0.5494 - val_loss: 0.0610 - val_accuracy: 0.5659\n",
      "Epoch 33/50\n",
      "40000/40000 [==============================] - 96s 2ms/step - loss: 0.0585 - accuracy: 0.5497 - val_loss: 0.0610 - val_accuracy: 0.5637\n",
      "Epoch 34/50\n",
      "40000/40000 [==============================] - 97s 2ms/step - loss: 0.0585 - accuracy: 0.5483 - val_loss: 0.0610 - val_accuracy: 0.5641\n",
      "Epoch 35/50\n",
      "40000/40000 [==============================] - 95s 2ms/step - loss: 0.0585 - accuracy: 0.5505 - val_loss: 0.0610 - val_accuracy: 0.5646\n",
      "Epoch 36/50\n",
      "40000/40000 [==============================] - 98s 2ms/step - loss: 0.0586 - accuracy: 0.5513 - val_loss: 0.0609 - val_accuracy: 0.5655\n",
      "Epoch 37/50\n",
      "40000/40000 [==============================] - 97s 2ms/step - loss: 0.0585 - accuracy: 0.5488 - val_loss: 0.0609 - val_accuracy: 0.5643\n",
      "Epoch 38/50\n",
      "40000/40000 [==============================] - 108s 3ms/step - loss: 0.0585 - accuracy: 0.5506 - val_loss: 0.0609 - val_accuracy: 0.5647\n",
      "Epoch 39/50\n",
      "40000/40000 [==============================] - 114s 3ms/step - loss: 0.0585 - accuracy: 0.5502 - val_loss: 0.0609 - val_accuracy: 0.5659\n",
      "Epoch 40/50\n",
      "40000/40000 [==============================] - 108s 3ms/step - loss: 0.0585 - accuracy: 0.5496 - val_loss: 0.0609 - val_accuracy: 0.5675\n",
      "Epoch 41/50\n",
      "40000/40000 [==============================] - 138s 3ms/step - loss: 0.0585 - accuracy: 0.5509 - val_loss: 0.0608 - val_accuracy: 0.5669\n",
      "Epoch 42/50\n",
      "40000/40000 [==============================] - 105s 3ms/step - loss: 0.0585 - accuracy: 0.5497 - val_loss: 0.0609 - val_accuracy: 0.5682\n",
      "Epoch 43/50\n",
      "40000/40000 [==============================] - 105s 3ms/step - loss: 0.0585 - accuracy: 0.5506 - val_loss: 0.0609 - val_accuracy: 0.5675\n",
      "Epoch 44/50\n",
      "40000/40000 [==============================] - 103s 3ms/step - loss: 0.0585 - accuracy: 0.5498 - val_loss: 0.0609 - val_accuracy: 0.5640\n",
      "Epoch 45/50\n",
      "40000/40000 [==============================] - 111s 3ms/step - loss: 0.0584 - accuracy: 0.5500 - val_loss: 0.0609 - val_accuracy: 0.5668\n",
      "Epoch 46/50\n",
      "40000/40000 [==============================] - 107s 3ms/step - loss: 0.0585 - accuracy: 0.5514 - val_loss: 0.0609 - val_accuracy: 0.5650\n",
      "Epoch 47/50\n",
      "40000/40000 [==============================] - 102s 3ms/step - loss: 0.0583 - accuracy: 0.5516 - val_loss: 0.0608 - val_accuracy: 0.5653\n",
      "Epoch 48/50\n",
      "40000/40000 [==============================] - 110s 3ms/step - loss: 0.0582 - accuracy: 0.5523 - val_loss: 0.0608 - val_accuracy: 0.5654\n",
      "Epoch 49/50\n",
      "40000/40000 [==============================] - 120s 3ms/step - loss: 0.0582 - accuracy: 0.5526 - val_loss: 0.0608 - val_accuracy: 0.5668\n",
      "Epoch 50/50\n",
      "40000/40000 [==============================] - 125s 3ms/step - loss: 0.0584 - accuracy: 0.5522 - val_loss: 0.0608 - val_accuracy: 0.5646\n"
     ]
    }
   ],
   "source": [
    "train_history = model.fit(x_img_train_normalize, y_label_train_OneHot, \n",
    "                          validation_split=0.2, \n",
    "                          epochs=50, batch_size=512, verbose=1)"
   ]
  },
  {
   "cell_type": "code",
   "execution_count": 110,
   "metadata": {},
   "outputs": [
    {
     "data": {
      "image/png": "[encoded data removed]",
      "text/plain": [
       "<Figure size 432x288 with 1 Axes>"
      ]
     },
     "metadata": {
      "needs_background": "light"
     },
     "output_type": "display_data"
    }
   ],
   "source": [
    "show_acc('accuracy', 'val_accuracy')"
   ]
  },
  {
   "cell_type": "code",
   "execution_count": 111,
   "metadata": {},
   "outputs": [
    {
     "data": {
      "image/png": "[encoded data removed]",
      "text/plain": [
       "<Figure size 432x288 with 1 Axes>"
      ]
     },
     "metadata": {
      "needs_background": "light"
     },
     "output_type": "display_data"
    }
   ],
   "source": [
    "show_loss('loss', 'val_loss')"
   ]
  },
  {
   "cell_type": "code",
   "execution_count": 112,
   "metadata": {},
   "outputs": [
    {
     "name": "stdout",
     "output_type": "stream",
     "text": [
      "10000/10000 [==============================] - 10s 958us/step\n",
      "\n",
      "loss:  0.06038566933870316 \n",
      "accuracy:  0.5626999735832214\n"
     ]
    }
   ],
   "source": [
    "scores = model.evaluate(x_img_test_normalize, y_label_test_OneHot)\n",
    "print()\n",
    "print('loss: ', scores[0],\n",
    "      '\\naccuracy: ',scores[1])"
   ]
  },
  {
   "cell_type": "markdown",
   "metadata": {},
   "source": [
    "### Binary Crossentropy"
   ]
  },
  {
   "cell_type": "code",
   "execution_count": 113,
   "metadata": {},
   "outputs": [],
   "source": [
    "model.compile(loss='binary_crossentropy', optimizer='sgd', metrics=['accuracy'])"
   ]
  },
  {
   "cell_type": "code",
   "execution_count": 114,
   "metadata": {},
   "outputs": [
    {
     "name": "stdout",
     "output_type": "stream",
     "text": [
      "Train on 40000 samples, validate on 10000 samples\n",
      "Epoch 1/50\n",
      "40000/40000 [==============================] - 122s 3ms/step - loss: 0.1982 - accuracy: 0.9225 - val_loss: 0.2078 - val_accuracy: 0.9173\n",
      "Epoch 2/50\n",
      "40000/40000 [==============================] - 121s 3ms/step - loss: 0.1979 - accuracy: 0.9224 - val_loss: 0.2081 - val_accuracy: 0.9172\n",
      "Epoch 3/50\n",
      "40000/40000 [==============================] - 124s 3ms/step - loss: 0.1979 - accuracy: 0.9224 - val_loss: 0.2072 - val_accuracy: 0.9173\n",
      "Epoch 4/50\n",
      "40000/40000 [==============================] - 117s 3ms/step - loss: 0.1982 - accuracy: 0.9222 - val_loss: 0.2076 - val_accuracy: 0.9173\n",
      "Epoch 5/50\n",
      "40000/40000 [==============================] - 124s 3ms/step - loss: 0.1977 - accuracy: 0.9224 - val_loss: 0.2078 - val_accuracy: 0.9174\n",
      "Epoch 6/50\n",
      "40000/40000 [==============================] - 122s 3ms/step - loss: 0.1980 - accuracy: 0.9226 - val_loss: 0.2077 - val_accuracy: 0.9173\n",
      "Epoch 7/50\n",
      "40000/40000 [==============================] - 132s 3ms/step - loss: 0.1975 - accuracy: 0.9227 - val_loss: 0.2071 - val_accuracy: 0.9174\n",
      "Epoch 8/50\n",
      "40000/40000 [==============================] - 122s 3ms/step - loss: 0.1974 - accuracy: 0.9229 - val_loss: 0.2069 - val_accuracy: 0.9174\n",
      "Epoch 9/50\n",
      "40000/40000 [==============================] - 128s 3ms/step - loss: 0.1973 - accuracy: 0.9228 - val_loss: 0.2072 - val_accuracy: 0.9174\n",
      "Epoch 10/50\n",
      "40000/40000 [==============================] - 116s 3ms/step - loss: 0.1974 - accuracy: 0.9226 - val_loss: 0.2068 - val_accuracy: 0.9177\n",
      "Epoch 11/50\n",
      "40000/40000 [==============================] - 120s 3ms/step - loss: 0.1968 - accuracy: 0.9228 - val_loss: 0.2068 - val_accuracy: 0.9177\n",
      "Epoch 12/50\n",
      "40000/40000 [==============================] - 121s 3ms/step - loss: 0.1968 - accuracy: 0.9230 - val_loss: 0.2069 - val_accuracy: 0.9174\n",
      "Epoch 13/50\n",
      "40000/40000 [==============================] - 123s 3ms/step - loss: 0.1965 - accuracy: 0.9229 - val_loss: 0.2063 - val_accuracy: 0.9177\n",
      "Epoch 14/50\n",
      "40000/40000 [==============================] - 118s 3ms/step - loss: 0.1967 - accuracy: 0.9231 - val_loss: 0.2067 - val_accuracy: 0.9176\n",
      "Epoch 15/50\n",
      "40000/40000 [==============================] - 119s 3ms/step - loss: 0.1964 - accuracy: 0.9230 - val_loss: 0.2064 - val_accuracy: 0.9176\n",
      "Epoch 16/50\n",
      "40000/40000 [==============================] - 119s 3ms/step - loss: 0.1967 - accuracy: 0.9226 - val_loss: 0.2064 - val_accuracy: 0.9179\n",
      "Epoch 17/50\n",
      "40000/40000 [==============================] - 123s 3ms/step - loss: 0.1967 - accuracy: 0.9231 - val_loss: 0.2060 - val_accuracy: 0.9180\n",
      "Epoch 18/50\n",
      "40000/40000 [==============================] - 125s 3ms/step - loss: 0.1957 - accuracy: 0.9233 - val_loss: 0.2065 - val_accuracy: 0.9179\n",
      "Epoch 19/50\n",
      "40000/40000 [==============================] - 127s 3ms/step - loss: 0.1958 - accuracy: 0.9230 - val_loss: 0.2062 - val_accuracy: 0.9179\n",
      "Epoch 20/50\n",
      "40000/40000 [==============================] - 132s 3ms/step - loss: 0.1963 - accuracy: 0.9231 - val_loss: 0.2058 - val_accuracy: 0.9178\n",
      "Epoch 21/50\n",
      "40000/40000 [==============================] - 148s 4ms/step - loss: 0.1957 - accuracy: 0.9234 - val_loss: 0.2056 - val_accuracy: 0.9181\n",
      "Epoch 22/50\n",
      "40000/40000 [==============================] - 150s 4ms/step - loss: 0.1960 - accuracy: 0.9233 - val_loss: 0.2059 - val_accuracy: 0.9181\n",
      "Epoch 23/50\n",
      "40000/40000 [==============================] - 137s 3ms/step - loss: 0.1959 - accuracy: 0.9234 - val_loss: 0.2060 - val_accuracy: 0.9178\n",
      "Epoch 24/50\n",
      "40000/40000 [==============================] - 123s 3ms/step - loss: 0.1959 - accuracy: 0.9229 - val_loss: 0.2054 - val_accuracy: 0.9184\n",
      "Epoch 25/50\n",
      "40000/40000 [==============================] - 122s 3ms/step - loss: 0.1953 - accuracy: 0.9232 - val_loss: 0.2056 - val_accuracy: 0.9183\n",
      "Epoch 26/50\n",
      "40000/40000 [==============================] - 126s 3ms/step - loss: 0.1954 - accuracy: 0.9232 - val_loss: 0.2054 - val_accuracy: 0.9185\n",
      "Epoch 27/50\n",
      "40000/40000 [==============================] - 119s 3ms/step - loss: 0.1951 - accuracy: 0.9236 - val_loss: 0.2056 - val_accuracy: 0.9181\n",
      "Epoch 28/50\n",
      "40000/40000 [==============================] - 120s 3ms/step - loss: 0.1954 - accuracy: 0.9235 - val_loss: 0.2051 - val_accuracy: 0.9186\n",
      "Epoch 29/50\n",
      "40000/40000 [==============================] - 120s 3ms/step - loss: 0.1947 - accuracy: 0.9236 - val_loss: 0.2050 - val_accuracy: 0.9186\n",
      "Epoch 30/50\n",
      "40000/40000 [==============================] - 119s 3ms/step - loss: 0.1948 - accuracy: 0.9236 - val_loss: 0.2047 - val_accuracy: 0.9184\n",
      "Epoch 31/50\n",
      "40000/40000 [==============================] - 117s 3ms/step - loss: 0.1948 - accuracy: 0.9238 - val_loss: 0.2045 - val_accuracy: 0.9187\n",
      "Epoch 32/50\n",
      "40000/40000 [==============================] - 118s 3ms/step - loss: 0.1944 - accuracy: 0.9239 - val_loss: 0.2045 - val_accuracy: 0.9185\n",
      "Epoch 33/50\n",
      "40000/40000 [==============================] - 118s 3ms/step - loss: 0.1948 - accuracy: 0.9235 - val_loss: 0.2046 - val_accuracy: 0.9182\n",
      "Epoch 34/50\n",
      "40000/40000 [==============================] - 117s 3ms/step - loss: 0.1943 - accuracy: 0.9239 - val_loss: 0.2047 - val_accuracy: 0.9185\n",
      "Epoch 35/50\n",
      "40000/40000 [==============================] - 118s 3ms/step - loss: 0.1942 - accuracy: 0.9238 - val_loss: 0.2046 - val_accuracy: 0.9186\n",
      "Epoch 36/50\n",
      "40000/40000 [==============================] - 115s 3ms/step - loss: 0.1942 - accuracy: 0.9240 - val_loss: 0.2043 - val_accuracy: 0.9190\n",
      "Epoch 37/50\n",
      "40000/40000 [==============================] - 118s 3ms/step - loss: 0.1943 - accuracy: 0.9236 - val_loss: 0.2040 - val_accuracy: 0.9191\n",
      "Epoch 38/50\n",
      "40000/40000 [==============================] - 140s 3ms/step - loss: 0.1939 - accuracy: 0.9242 - val_loss: 0.2040 - val_accuracy: 0.9188\n",
      "Epoch 39/50\n",
      "40000/40000 [==============================] - 151s 4ms/step - loss: 0.1936 - accuracy: 0.9241 - val_loss: 0.2043 - val_accuracy: 0.9186\n",
      "Epoch 40/50\n",
      "40000/40000 [==============================] - 132s 3ms/step - loss: 0.1942 - accuracy: 0.9236 - val_loss: 0.2044 - val_accuracy: 0.9186\n",
      "Epoch 41/50\n",
      "40000/40000 [==============================] - 125s 3ms/step - loss: 0.1934 - accuracy: 0.9242 - val_loss: 0.2041 - val_accuracy: 0.9186\n",
      "Epoch 42/50\n",
      "40000/40000 [==============================] - 126s 3ms/step - loss: 0.1938 - accuracy: 0.9240 - val_loss: 0.2037 - val_accuracy: 0.9187\n",
      "Epoch 43/50\n",
      "40000/40000 [==============================] - 136s 3ms/step - loss: 0.1932 - accuracy: 0.9241 - val_loss: 0.2042 - val_accuracy: 0.9185\n",
      "Epoch 44/50\n",
      "40000/40000 [==============================] - 156s 4ms/step - loss: 0.1933 - accuracy: 0.9242 - val_loss: 0.2033 - val_accuracy: 0.9190\n",
      "Epoch 45/50\n",
      "40000/40000 [==============================] - 127s 3ms/step - loss: 0.1934 - accuracy: 0.9241 - val_loss: 0.2036 - val_accuracy: 0.9191\n",
      "Epoch 46/50\n",
      "40000/40000 [==============================] - 132s 3ms/step - loss: 0.1931 - accuracy: 0.9244 - val_loss: 0.2034 - val_accuracy: 0.9188\n",
      "Epoch 47/50\n",
      "40000/40000 [==============================] - 122s 3ms/step - loss: 0.1929 - accuracy: 0.9242 - val_loss: 0.2035 - val_accuracy: 0.9187\n",
      "Epoch 48/50\n",
      "40000/40000 [==============================] - 124s 3ms/step - loss: 0.1933 - accuracy: 0.9241 - val_loss: 0.2040 - val_accuracy: 0.9190\n",
      "Epoch 49/50\n",
      "40000/40000 [==============================] - 138s 3ms/step - loss: 0.1932 - accuracy: 0.9242 - val_loss: 0.2031 - val_accuracy: 0.9192\n",
      "Epoch 50/50\n",
      "40000/40000 [==============================] - 118s 3ms/step - loss: 0.1927 - accuracy: 0.9246 - val_loss: 0.2030 - val_accuracy: 0.9192\n"
     ]
    }
   ],
   "source": [
    "train_history = model.fit(x_img_train_normalize, y_label_train_OneHot, \n",
    "                          validation_split=0.2, \n",
    "                          epochs=50, batch_size=512, verbose=1)"
   ]
  },
  {
   "cell_type": "code",
   "execution_count": 115,
   "metadata": {},
   "outputs": [
    {
     "data": {
      "image/png": "[encoded data removed]",
      "text/plain": [
       "<Figure size 432x288 with 1 Axes>"
      ]
     },
     "metadata": {
      "needs_background": "light"
     },
     "output_type": "display_data"
    }
   ],
   "source": [
    "show_acc('accuracy', 'val_accuracy')"
   ]
  },
  {
   "cell_type": "code",
   "execution_count": 116,
   "metadata": {
    "scrolled": true
   },
   "outputs": [
    {
     "data": {
      "image/png": "[encoded data removed]",
      "text/plain": [
       "<Figure size 432x288 with 1 Axes>"
      ]
     },
     "metadata": {
      "needs_background": "light"
     },
     "output_type": "display_data"
    }
   ],
   "source": [
    "show_loss('loss', 'val_loss')"
   ]
  },
  {
   "cell_type": "code",
   "execution_count": 117,
   "metadata": {},
   "outputs": [
    {
     "name": "stdout",
     "output_type": "stream",
     "text": [
      "10000/10000 [==============================] - 10s 979us/step\n",
      "\n",
      "loss:  0.20112048008441924 \n",
      "accuracy:  0.9198201298713684\n"
     ]
    }
   ],
   "source": [
    "scores = model.evaluate(x_img_test_normalize, y_label_test_OneHot)\n",
    "print()\n",
    "print('loss: ', scores[0],\n",
    "      '\\naccuracy: ',scores[1])"
   ]
  }
 ],
 "metadata": {
  "colab": {
   "name": "Day71-使用損失函數_HW.ipynb",
   "provenance": [],
   "version": "0.3.2"
  },
  "kernelspec": {
   "display_name": "Python 3",
   "language": "python",
   "name": "python3"
  },
  "language_info": {
   "codemirror_mode": {
    "name": "ipython",
    "version": 3
   },
   "file_extension": ".py",
   "mimetype": "text/x-python",
   "name": "python",
   "nbconvert_exporter": "python",
   "pygments_lexer": "ipython3",
   "version": "3.7.9"
  }
 },
 "nbformat": 4,
 "nbformat_minor": 1
}
